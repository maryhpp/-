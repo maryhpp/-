{
 "cells": [
  {
   "cell_type": "code",
   "execution_count": null,
   "metadata": {},
   "outputs": [],
   "source": []
  },
  {
   "cell_type": "code",
   "execution_count": 13,
   "metadata": {},
   "outputs": [],
   "source": [
    "import pandas as pd\n",
    "import numpy as np\n",
    "import matplotlib.pyplot as plt\n",
    "\n",
    "\n",
    "dataset = pd.read_csv('cityprofit.csv')\n",
    "# 提取csv文件\n",
    "\n",
    "X = dataset.iloc[:, 0:1].values   # 所有行，第0列\n",
    "\n",
    "Y = dataset.iloc[:, 1].values           # 所有行，第1列\n"
   ]
  },
  {
   "cell_type": "code",
   "execution_count": 14,
   "metadata": {},
   "outputs": [],
   "source": [
    "# 数据集的拆分\n",
    "\n",
    "from sklearn.model_selection import train_test_split\n",
    "\n",
    "X_train, X_test, Y_train, Y_test = train_test_split( X, Y, test_size=1/4, random_state =0)\n",
    "\n"
   ]
  },
  {
   "cell_type": "code",
   "execution_count": 15,
   "metadata": {
    "scrolled": true
   },
   "outputs": [],
   "source": [
    "# 线性回归模型\n",
    "\n",
    "from sklearn.linear_model import LinearRegression\n",
    "\n",
    "regressor = LinearRegression()\n",
    "\n",
    "\"\"\"\n",
    "    LinearRegression(fit_intercept=True, normalize=False, copy_X=True, n_jobs=None):线性回归\n",
    "        parameters：\n",
    "            fit_intercept: 是否计算截距\n",
    "            normalize:     是否规范化\n",
    "            copy_x:        是否复制x\n",
    "        Attributes:属性\n",
    "            coef_:         系数 （线性回归方程的斜率）\n",
    "            intercept_:    截距\n",
    "        Methods:方法\n",
    "            fit(X, y, sample_weight=None):   拟合 （这个很强大）\n",
    "            get_params(deep=True):           得到参数,如果deep为True则得到这个estimator 的子对象返回参数名和值的映射\n",
    "            set_params(**params):            设置参数\n",
    "            predict(X):                      预测\n",
    "            score(X, y, sample_weight=None): 预测的准确度。X：测试样本；y：X的真实结果；sample_w\n",
    "            weight:                           权重\n",
    "\"\"\"\n",
    "\n",
    "regressor = regressor.fit(X_train, Y_train)\n",
    "\n",
    "# fit要求x是一个二维数组 \n",
    "# [:, 0 ]会自动处理为一维数组，所以要写为 [: , 0:1], [:, :1]\n",
    "\n",
    "Y_pred = regressor.predict(X_test)\n"
   ]
  },
  {
   "cell_type": "code",
   "execution_count": 19,
   "metadata": {},
   "outputs": [
    {
     "data": {
      "image/png": "[encoded data removed]",
      "text/plain": [
       "<Figure size 432x288 with 1 Axes>"
      ]
     },
     "metadata": {
      "needs_background": "light"
     },
     "output_type": "display_data"
    }
   ],
   "source": [
    "# 可视化\n",
    "\n",
    "plt.scatter( X_train, Y_train, color = '#2177C7',marker='x', alpha=0.48)\n",
    "plt.plot(X_train, regressor.predict(X_train),  color ='#66BB6A')\n",
    "plt.legend(labels=[\"Linear line\",\"Train data\"],loc=\"lower right\")\n",
    "plt.xlabel(\"Population of City in 10,000s\")\n",
    "plt.ylabel(\"Profit in $10,000s\")\n",
    "plt.show()\n"
   ]
  },
  {
   "cell_type": "code",
   "execution_count": 20,
   "metadata": {},
   "outputs": [
    {
     "name": "stdout",
     "output_type": "stream",
     "text": [
      "训练后结果\n",
      "斜率：1.19\n",
      "截距：-4.05\n"
     ]
    }
   ],
   "source": [
    "print(\"训练后结果\")\n",
    "\n",
    "print(\"斜率：%.2f\"%float(regressor.coef_))\n",
    "print(\"截距：%.2f\"%float(regressor.intercept_))"
   ]
  },
  {
   "cell_type": "code",
   "execution_count": null,
   "metadata": {},
   "outputs": [],
   "source": [
    "# 测试集的效果\n",
    "\n",
    "plt.scatter( X_train, Y_train, color = '#2177C7',marker='x', alpha=0.48)\n",
    "plt.plot(X_train, regressor.predict(X_train),  color ='#66BB6A')\n",
    "plt.legend(labels=[\"Linear line\",\"Train data\"],loc=\"lower right\")\n",
    "plt.xlabel(\"Population of City in 10,000s\")\n",
    "plt.ylabel(\"Profit in $10,000s\")\n",
    "plt.show()"
   ]
  }
 ],
 "metadata": {
  "kernelspec": {
   "display_name": "Python 3",
   "language": "python",
   "name": "python3"
  },
  "language_info": {
   "codemirror_mode": {
    "name": "ipython",
    "version": 3
   },
   "file_extension": ".py",
   "mimetype": "text/x-python",
   "name": "python",
   "nbconvert_exporter": "python",
   "pygments_lexer": "ipython3",
   "version": "3.8.3"
  },
  "toc": {
   "base_numbering": 1,
   "nav_menu": {},
   "number_sections": true,
   "sideBar": true,
   "skip_h1_title": false,
   "title_cell": "Table of Contents",
   "title_sidebar": "Contents",
   "toc_cell": false,
   "toc_position": {},
   "toc_section_display": true,
   "toc_window_display": false
  },
  "varInspector": {
   "cols": {
    "lenName": 16,
    "lenType": 16,
    "lenVar": 40
   },
   "kernels_config": {
    "python": {
     "delete_cmd_postfix": "",
     "delete_cmd_prefix": "del ",
     "library": "var_list.py",
     "varRefreshCmd": "print(var_dic_list())"
    },
    "r": {
     "delete_cmd_postfix": ") ",
     "delete_cmd_prefix": "rm(",
     "library": "var_list.r",
     "varRefreshCmd": "cat(var_dic_list()) "
    }
   },
   "types_to_exclude": [
    "module",
    "function",
    "builtin_function_or_method",
    "instance",
    "_Feature"
   ],
   "window_display": false
  }
 },
 "nbformat": 4,
 "nbformat_minor": 4
}
