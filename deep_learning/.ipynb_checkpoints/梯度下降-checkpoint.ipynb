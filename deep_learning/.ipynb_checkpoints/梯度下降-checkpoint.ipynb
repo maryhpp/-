{
 "cells": [
  {
   "cell_type": "markdown",
   "metadata": {},
   "source": [
    "# 梯度下降"
   ]
  },
  {
   "cell_type": "markdown",
   "metadata": {},
   "source": [
    "## 1-梯度"
   ]
  },
  {
   "cell_type": "markdown",
   "metadata": {},
   "source": [
    "我们先明确梯度的概念：梯度在数学上等价于导数，对于多元函数梯度就是其偏导数。比如一个函数f(x, y)，那么 f 的梯度就是 \n",
    "$$\n",
    "(\\frac{\\partial f}{\\partial x},\\ \\frac{\\partial f}{\\partial y})\n",
    "$$\n",
    "可以称为 grad f(x, y) 或者 $\\nabla f(x, y)$。具体某一点 $(x_0,\\ y_0)$ 的梯度就是 $\\nabla f(x_0,\\ y_0)$。\n",
    "\n",
    "$f(x) = x^3$ 这个函数的梯度为$\\nabla_x f(x)=3x^2$"
   ]
  },
  {
   "cell_type": "markdown",
   "metadata": {},
   "source": [
    "## 2-算法介绍"
   ]
  },
  {
   "cell_type": "markdown",
   "metadata": {},
   "source": [
    "梯度下降是一种可以帮助我们找到任何可微函数局部最小值的算法。一般而言，对于可微函数$f(x),$\n",
    "梯度下降算法计算$f'(x^*) = 0$时的$x^*$，$f(x^*)$是$f(x)$的局部极值。为了找到局部最小值，算法每次沿着梯度的负方向进行迭代。\n",
    "\n",
    "一个函数可能有很多局部最小值 $f(x_{1}^{*}), f(x_{2}^{*}), \\ldots, f(x_{k}^{*}),$梯度下降算法最终会收敛到其中某个最小值，这取决于起始点和学习率。正如算法的名称所指的那样，梯度下降算法需要1）函数的$\\textbf{梯度}$（导数或者偏导数）2）使用梯度决定最快的下降方向。算法思路是，在函数的某个地方开始，例如 $f(x_{1})$，然后尽可能快地向下爬到第一个山谷（局部最小值），其中$f'(x^*) = 0.$梯度下降算法会不断迭代，直到收敛到某个局部最小值。\n",
    "\n",
    "梯度下降通常用于通过最小化一些目标函数来训练机器学习模型。 机器学习中的许多目标函数很难得到精确的全局最小值，但我们可以使用梯度下降来近似得到最小值（局部最小值）。"
   ]
  },
  {
   "cell_type": "markdown",
   "metadata": {},
   "source": [
    "## 3-直观理解"
   ]
  },
  {
   "cell_type": "markdown",
   "metadata": {},
   "source": [
    "比如我们身处一座大山的某个位置，想走到山脚露营。我们可以沿着当前最陡峭的位置（梯度）向下（梯度负方向）走一步，这样一直走下去，可能就到了山脚或者某个山谷。这个过程相当于每走到一个位置的时候，求解当前位置的梯度，沿着梯度的负方向进行迭代，每一次的步长在算法中等同于学习率。"
   ]
  },
  {
   "cell_type": "markdown",
   "metadata": {},
   "source": [
    "## 4-算法流程"
   ]
  },
  {
   "cell_type": "markdown",
   "metadata": {},
   "source": [
    "1: &nbsp; 选择随机初始值$x_0$和学习率$\\alpha_k$<br>\n",
    "2: &nbsp; <b>for</b> k = 0, 1, 2, ...,n <b>do</b> <br>\n",
    "3:   &nbsp;&nbsp;&nbsp;&nbsp;&nbsp; $x_{k+1} = x_k - \\alpha_k \\nabla f(x_k)$ <br>\n",
    "5: &nbsp;  <b>end for</b>"
   ]
  },
  {
   "cell_type": "markdown",
   "metadata": {},
   "source": [
    "## 5-代码演示"
   ]
  },
  {
   "cell_type": "markdown",
   "metadata": {},
   "source": [
    "考虑单变量函数$$ f（x）= 0.1x ^ 2 - sin（0.1x ^ 2）$$并假设我们使用梯度下降找到它的最小值。 \n",
    "梯度下降要求我们计算一阶导数，即$$ f'（x）= 0.2x - 0.2xcos（0.1x ^ 2）$$"
   ]
  },
  {
   "cell_type": "markdown",
   "metadata": {},
   "source": [
    "## 5.1-绘制函数图像"
   ]
  },
  {
   "cell_type": "code",
   "execution_count": 4,
   "metadata": {},
   "outputs": [
    {
     "data": {
      "image/png": "[encoded data removed]",
      "text/plain": [
       "<Figure size 432x288 with 1 Axes>"
      ]
     },
     "metadata": {
      "needs_background": "light"
     },
     "output_type": "display_data"
    }
   ],
   "source": [
    "import numpy as np\n",
    "import matplotlib.pyplot as plt\n",
    "#定义函数f(x)\n",
    "def f(x):\n",
    "    return 0.1*x**2 -np.sin(0.1*x**2)\n",
    "#定义绘图函数plotf\n",
    "def plotf(x, xdots, label):\n",
    "    y = f(x)\n",
    "    plt.plot(x,y)\n",
    "    plt.xlabel(\"x\")\n",
    "    plt.ylabel(\"f(x)\")\n",
    "    plt.title(label)\n",
    "    # Plot points on f(x)\n",
    "    plt.plot(xdots, f(xdots), 'bo')\n",
    "    plt.show()\n",
    "#定义x范围\n",
    "x = np.arange(-10, 10, 0.1)\n",
    "plotf(x, np.array([]), \"Single Variable Function\")"
   ]
  },
  {
   "cell_type": "markdown",
   "metadata": {},
   "source": [
    "## 5.2-梯度下降迭代函数"
   ]
  },
  {
   "cell_type": "code",
   "execution_count": 5,
   "metadata": {},
   "outputs": [],
   "source": [
    "#函数梯度\n",
    "def df(x):\n",
    "    return 0.2*x - 0.2*x*np.cos(0.1*(x**2))\n",
    "#梯度下降迭代函数\n",
    "def grad_descent(df,x_prev,learn_rate, sequence):\n",
    "    #迭代精度阈值\n",
    "    epsilon = 0.001\n",
    "    #迭代次数初始值\n",
    "    grad_itter = 0\n",
    "    # 完成第一次梯度下降\n",
    "    x_next = x_prev - learn_rate*df(x_prev)\n",
    "    # 保存中间结果，用于可视化，与算法独立\n",
    "    sequence = np.append(sequence, x_next)\n",
    "\n",
    "    # 迭代结束的条件\n",
    "    while abs(x_next - x_prev) > epsilon and grad_itter<100:\n",
    "        # 更新x_{k}\n",
    "        x_prev = x_next\n",
    "        x_next = x_prev - learn_rate*df(x_prev)\n",
    "        # 保存中间结果\n",
    "        sequence = np.append(sequence, x_next)\n",
    "        # 迭代次数加1\n",
    "        grad_itter += 1\n",
    "        if grad_itter%10==0:\n",
    "            print('grad_itter',grad_itter)\n",
    "    \n",
    "    return (x_next, sequence, grad_itter)"
   ]
  },
  {
   "cell_type": "markdown",
   "metadata": {},
   "source": [
    "## 6-学习率调整"
   ]
  },
  {
   "cell_type": "markdown",
   "metadata": {},
   "source": [
    "### 6-1 较大的学习率"
   ]
  },
  {
   "cell_type": "code",
   "execution_count": 6,
   "metadata": {},
   "outputs": [
    {
     "data": {
      "image/png": "[encoded data removed]",
      "text/plain": [
       "<Figure size 432x288 with 1 Axes>"
      ]
     },
     "metadata": {
      "needs_background": "light"
     },
     "output_type": "display_data"
    },
    {
     "name": "stdout",
     "output_type": "stream",
     "text": [
      "Minimum x-value from gradient descent: 7.935656976858315\n",
      "Number of gradient descent itterations: 5\n"
     ]
    }
   ],
   "source": [
    "# np.array([8])为x_k初始值，包含8的数组\n",
    "grad_output = grad_descent(df,8,5, np.array([8]))#x_k初始值为8\n",
    "plotf(x, grad_output[1],'learning rate is 5')\n",
    "\n",
    "#打印梯度下降结果\n",
    "print('Minimum x-value from gradient descent: %s' %grad_output[0])\n",
    "print('Number of gradient descent itterations: %s' %grad_output[2])"
   ]
  },
  {
   "cell_type": "markdown",
   "metadata": {},
   "source": [
    "### 6-2 降低学习率"
   ]
  },
  {
   "cell_type": "code",
   "execution_count": 7,
   "metadata": {
    "scrolled": true
   },
   "outputs": [
    {
     "name": "stdout",
     "output_type": "stream",
     "text": [
      "grad_itter 10\n",
      "grad_itter 20\n",
      "grad_itter 30\n",
      "grad_itter 40\n",
      "grad_itter 50\n",
      "grad_itter 60\n",
      "grad_itter 70\n",
      "grad_itter 80\n",
      "grad_itter 90\n",
      "grad_itter 100\n"
     ]
    },
    {
     "data": {
      "image/png": "[encoded data removed]",
      "text/plain": [
       "<Figure size 432x288 with 1 Axes>"
      ]
     },
     "metadata": {
      "needs_background": "light"
     },
     "output_type": "display_data"
    },
    {
     "name": "stdout",
     "output_type": "stream",
     "text": [
      "Minimum x-value from gradient descent: -1.489198182484482\n",
      "Number of gradient descent itterations: 100\n"
     ]
    }
   ],
   "source": [
    "# np.array([-6])为x_k初始值，包含-6的数组\n",
    "grad_output = grad_descent(df,-6,0.5, np.array([-6]))\n",
    "\n",
    "plotf(x, grad_output[1], \"x1 = -6 and lambda = 0.5 Finds Local Minimum\")\n",
    "\n",
    "#打印梯度下降结果\n",
    "print('Minimum x-value from gradient descent: %s' %grad_output[0])\n",
    "print('Number of gradient descent itterations: %s' %grad_output[2])"
   ]
  }
 ],
 "metadata": {
  "kernelspec": {
   "display_name": "Python 3",
   "language": "python",
   "name": "python3"
  },
  "language_info": {
   "codemirror_mode": {
    "name": "ipython",
    "version": 3
   },
   "file_extension": ".py",
   "mimetype": "text/x-python",
   "name": "python",
   "nbconvert_exporter": "python",
   "pygments_lexer": "ipython3",
   "version": "3.8.3"
  }
 },
 "nbformat": 4,
 "nbformat_minor": 1
}
